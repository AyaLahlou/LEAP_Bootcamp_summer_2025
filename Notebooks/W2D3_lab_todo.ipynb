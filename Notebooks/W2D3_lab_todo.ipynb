{
 "cells": [
  {
   "cell_type": "markdown",
   "id": "46783f1d-b3f9-45be-b955-33d85c9bde5f",
   "metadata": {},
   "source": [
    "# Week 2 Day 3 Lab \n",
    "\n",
    "Aya Lahlou\n"
   ]
  },
  {
   "cell_type": "markdown",
   "id": "d4287bba-43ac-4ee4-80af-5dfc3a13cd9b",
   "metadata": {},
   "source": [
    "## Model Comparison Lab: Predicting TAS from CO₂ and CH₄\n",
    "\n",
    "Choose **two model architectures** discussed in the bootcamp to **predict TAS** (near-surface air temperature) from **CO₂ and CH₄** under different scenarios (refer to the W2D1 lab).\n",
    "\n",
    "Use the **Hugging Face library or Model Zoo** to explore and load model examples.\n",
    "\n",
    "### For Each Model, Complete the Following:\n",
    "\n",
    "- **Explore a data processing method:**\n",
    "  - Try at least one of the following:\n",
    "    - Normalization\n",
    "    - Standardization\n",
    "    - Downsampling (temporal or spatial resolution)\n",
    "    - Data interpolation to increase resolution\n",
    "\n",
    "- **Experiment with hyperparameters:**\n",
    "  - Tune hyperparameters using one of the following approaches:\n",
    "    - Grid search\n",
    "    - Random search\n",
    "    - Manual/arbitrary tuning\n",
    "    - Load pretrained/tuned hyperparameters from Hugging Face\n",
    "\n",
    "- **Evaluate model performance using 2–3 metrics:**\n",
    "  - Examples include:\n",
    "    - RMSE (Root Mean Square Error)\n",
    "    - MAE (Mean Absolute Error)\n",
    "    - Bias\n",
    "    - R² (Coefficient of Determination)\n",
    "\n",
    "- **Train your model** on the CO₂ and CH₄ data to predict TAS, using different sets of hyperparameters.\n",
    "\n",
    "- **Record and compare performance metrics** across different hyperparameter settings:\n",
    "  - Which set performed best?\n",
    "  - Provide a brief interpretation of the results.\n",
    "\n",
    "- **Perform uncertainty analysis:**\n",
    "  - As in Lab 1, plot the **range of predictions**.\n",
    "  - Comment on **model uncertainty** and its spatial/temporal patterns.\n",
    "\n",
    "- **Plot your results**:\n",
    "  - Visualize model predictions.\n",
    "  - Comment on prediction performance and observed **spatial patterns**.\n",
    "\n",
    "### Bonus\n",
    "\n",
    "- Explore **interpretability methods** (e.g., SHAP, attention visualization) using Hugging Face tools to better understand the relationship between CO₂, CH₄, and TAS.\n"
   ]
  },
  {
   "cell_type": "code",
   "execution_count": null,
   "id": "1e6f4c83-7c21-4b70-baf0-c0bd5cd1b67c",
   "metadata": {},
   "outputs": [],
   "source": []
  }
 ],
 "metadata": {
  "kernelspec": {
   "display_name": "Python 3 (ipykernel)",
   "language": "python",
   "name": "python3"
  },
  "language_info": {
   "codemirror_mode": {
    "name": "ipython",
    "version": 3
   },
   "file_extension": ".py",
   "mimetype": "text/x-python",
   "name": "python",
   "nbconvert_exporter": "python",
   "pygments_lexer": "ipython3",
   "version": "3.12.8"
  }
 },
 "nbformat": 4,
 "nbformat_minor": 5
}
