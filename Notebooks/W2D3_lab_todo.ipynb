{
 "cells": [
  {
   "cell_type": "markdown",
   "id": "46783f1d-b3f9-45be-b955-33d85c9bde5f",
   "metadata": {},
   "source": [
    "# Week 2 Day 3 Lab \n",
    "\n",
    "LEAP Summer Bootcamp 2025\n",
    "\n",
    "Aya Lahlou"
   ]
  },
  {
   "cell_type": "markdown",
   "id": "d4287bba-43ac-4ee4-80af-5dfc3a13cd9b",
   "metadata": {},
   "source": [
    "## Model Comparison Lab: Predicting TAS from CO₂ and CH₄\n",
    "\n",
    "Choose **two model architectures** discussed in the bootcamp to **predict TAS** (near-surface air temperature) from **CO₂ and CH₄** under different scenarios (refer to the W2D1 lab).\n",
    "\n",
    "Use the **Hugging Face library or Model Zoo** to explore and load model examples.\n",
    "\n",
    "### For Each Model, Complete the Following:\n",
    "\n",
    "- **Explore a data processing method:**\n",
    "  - Try at least one of the following:\n",
    "    - Normalization\n",
    "    - Standardization\n",
    "    - Downsampling (temporal or spatial resolution)\n",
    "    - Data interpolation to increase resolution\n",
    "\n",
    "- **Experiment with hyperparameters:**\n",
    "  - Tune hyperparameters using one of the following approaches:\n",
    "    - Grid search\n",
    "    - Random search\n",
    "    - Manual/arbitrary tuning\n",
    "    - Load pretrained/tuned hyperparameters from Hugging Face\n",
    "\n",
    "- **Evaluate model performance using 2–3 metrics:**\n",
    "  - Examples include:\n",
    "    - RMSE (Root Mean Square Error)\n",
    "    - MAE (Mean Absolute Error)\n",
    "    - Bias\n",
    "    - R² (Coefficient of Determination)\n",
    "\n",
    "- **Train your model** on the CO₂ and CH₄ data to predict TAS, using different sets of hyperparameters.\n",
    "\n",
    "- **Record and compare performance metrics** across different hyperparameter settings:\n",
    "  - Which set performed best?\n",
    "  - Provide a brief interpretation of the results.\n",
    "\n",
    "- **Perform uncertainty analysis:**\n",
    "  - As in Lab 1, plot the **range of predictions**.\n",
    "  - Comment on **model uncertainty** and its spatial/temporal patterns.\n",
    "\n",
    "- **Plot your results**:\n",
    "  - Visualize model predictions.\n",
    "  - Comment on prediction performance and observed **spatial patterns**.\n",
    "\n",
    "### Bonus\n",
    "\n",
    "- Explore **interpretability methods** (e.g., SHAP, attention visualization) using Hugging Face tools to better understand the relationship between CO₂, CH₄, and TAS.\n",
    "\n",
    "### Ressources: \n",
    "\n",
    "`Tsaug` is a Python package for time series augmentation. [github](https://github.com/arundo/tsaug)\n",
    "\n",
    "`time_series_augmentation` provides methods like jittering, scaling, and time warping with Keras examples. [github](https://github.com/uchidalab/time_series_augmentation)\n",
    "\n",
    "`tsai - Time Series Data Preparation` shows how to process and prepare time series data using the tsai library. [github](https://github.com/timeseriesAI/tsai/blob/master/tutorial_nbs/00c_Time_Series_data_preparation.ipynb)\n",
    "\n",
    "`tsai - Time Series Regression` includes model training, evaluation, and hyperparameter tuning examples for time series regression. [github](https://github.com/timeseriesAI/tsai/blob/main/tutorial_nbs/04_Intro_to_Time_Series_Regression.ipynb)\n",
    "\n",
    "`pytorch-forecasting` is a framework for time series forecasting using PyTorch, with support for interpretable deep learning models and tuning. [github](https://github.com/sktime/pytorch-forecasting)\n",
    "\n",
    "`tsai - Time Series Classification` walks through training and evaluating deep learning models for classification tasks on time series. [github](https://github.com/timeseriesAI/tsai/blob/main/tutorial_nbs/01_Intro_to_Time_Series_Classification.ipynb)\n",
    "\n",
    "`TimeSeries-Forecasting` is a full guide to building and evaluating deep learning models on time series datasets. [github](https://github.com/AayushSameerShah/TimeSeries-Forecasting)\n",
    "\n",
    "`gxercavins/time-series` contains notebooks on forecasting and visualizing uncertainty in time series predictions. [github](https://github.com/gxercavins/time-series)\n",
    "\n",
    "`tsai - PatchTST Tutorial` demonstrates a transformer-based model for long-term forecasting with visual performance diagnostics. [github](https://github.com/timeseriesAI/tsai/blob/main/tutorial_nbs/15_PatchTST_a_new_transformer_for_LTSF.ipynb)\n",
    "\n",
    "`AugmentTS` uses generative models for time series data augmentation and interpretability exploration. [github](https://github.com/DrSasanBarak/AugmentTS)\n",
    "\n"
   ]
  },
  {
   "cell_type": "code",
   "execution_count": null,
   "id": "31882cf1-db6a-412a-9e6d-d2ebd377f096",
   "metadata": {},
   "outputs": [],
   "source": [
    "!pip install tensorflow"
   ]
  },
  {
   "cell_type": "code",
   "execution_count": null,
   "id": "1e6f4c83-7c21-4b70-baf0-c0bd5cd1b67c",
   "metadata": {},
   "outputs": [],
   "source": [
    "import os\n",
    "import numpy as np\n",
    "import pandas as pd\n",
    "import matplotlib.pyplot as plt\n",
    "import xarray as xr\n",
    "from glob import glob\n",
    "\n",
    "import tensorflow as tf\n",
    "from tensorflow import keras\n",
    "from tensorflow.keras.models import Model, load_model\n",
    "from tensorflow.keras.layers import *\n",
    "from tensorflow.keras import Sequential\n",
    "from utils import * \n",
    "\n",
    "%matplotlib inline\n",
    "%config InlineBackend.figure_format = 'retina'\n",
    "%load_ext autoreload\n",
    "%autoreload 2\n",
    "\n",
    "plt.rcParams['savefig.dpi'] = 400\n",
    "plt.rcParams['font.size'] = 13\n",
    "plt.rcParams[\"legend.frameon\"] = False"
   ]
  },
  {
   "cell_type": "markdown",
   "id": "d01977d7-fd95-493f-ac0d-1af86b570cae",
   "metadata": {},
   "source": [
    "ClimateBench is a spatial-temporal dataset that contains simulations generated by the NorESM2 model. It provides both historical simulations & future projections under different scenarios (e.g., ssp245).\n",
    "\n",
    "Four future scenarios are plotted here: `ssp126, ssp245, ssp370, ssp585`.\n",
    "1. ssp126 (Low): low population growth, high levels of education, and global cooperation to address environmental and social issues.\n",
    "2. ssp245 (Medium): intermediate challenges to mitigation and adaptation - moderate population growth, intermediate levels of education, and a balanced emphasis on economic development and environmental sustainability.\n",
    "3. ssp370 (High): continued high population growth, limited environmental regulations, and slow technological progress in achieving sustainability goals.\n",
    "4. ssp585 (Very High): high population growth, limited technological innovation in sustainability, and high reliance on fossil fuels"
   ]
  },
  {
   "cell_type": "code",
   "execution_count": null,
   "id": "2577278e-94f1-49a3-be25-0601b69bc835",
   "metadata": {},
   "outputs": [],
   "source": [
    "cwd = os.getcwd()\n",
    "train_path = \"gs://leap-persistent/jbusecke/data/climatebench/train_val/\"\n",
    "test_path = \"gs://leap-persistent/jbusecke/data/climatebench/test/\""
   ]
  },
  {
   "cell_type": "code",
   "execution_count": null,
   "id": "936b24dc-e6f8-4a64-8fca-21cc2e282fcc",
   "metadata": {},
   "outputs": [],
   "source": [
    "scenarios = ['historical','ssp126','ssp370','ssp585']\n",
    "inputs = [os.path.join(train_path , f\"inputs_{scenario}\") for scenario in scenarios]\n",
    "inputs.append(os.path.join(test_path, \"inputs_ssp245\"))\n",
    "inputs.sort(key=lambda x:x.split('_')[-1])\n",
    "\n",
    "outputs = [os.path.join(train_path , f\"outputs_{scenario}\") for scenario in scenarios]\n",
    "outputs.append(os.path.join(test_path, \"outputs_ssp245\"))\n",
    "outputs.sort(key=lambda x:x.split('_')[-1])\n"
   ]
  }
 ],
 "metadata": {
  "kernelspec": {
   "display_name": "Python 3 (ipykernel)",
   "language": "python",
   "name": "python3"
  },
  "language_info": {
   "codemirror_mode": {
    "name": "ipython",
    "version": 3
   },
   "file_extension": ".py",
   "mimetype": "text/x-python",
   "name": "python",
   "nbconvert_exporter": "python",
   "pygments_lexer": "ipython3",
   "version": "3.12.8"
  }
 },
 "nbformat": 4,
 "nbformat_minor": 5
}
